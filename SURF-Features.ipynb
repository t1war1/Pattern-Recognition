{
 "cells": [
  {
   "cell_type": "code",
   "execution_count": 2,
   "metadata": {
    "collapsed": true
   },
   "outputs": [],
   "source": [
    "#Find SURF features of an image\n",
    "import cv2\n",
    "import matplotlib.pyplot as plt\n",
    "img=cv2.imread('fly.jpg',0);\n",
    "surf = cv2.xfeatures2d.SURF_create(50000)\n",
    "kp,des = surf.detectAndCompute(img, None)\n",
    "#print(len(kp))\n",
    "img2 = cv2.drawKeypoints(img,kp,None,(255,0,0),4)   \n",
    "#plt.imshow(img2),plt.show()\n",
    "cv2.namedWindow('image', cv2.WINDOW_NORMAL)\n",
    "cv2.imshow('image',img2)\n",
    "cv2.imwrite('flysurf.jpg',img2)\n",
    "cv2.waitKey(0)\n",
    "cv2.destroyAllWindows()"
   ]
  },
  {
   "cell_type": "markdown",
   "metadata": {},
   "source": [
    "![SURF](flysurf.jpg)"
   ]
  }
 ],
 "metadata": {
  "kernelspec": {
   "display_name": "prlab",
   "language": "python",
   "name": "prlab"
  },
  "language_info": {
   "codemirror_mode": {
    "name": "ipython",
    "version": 3
   },
   "file_extension": ".py",
   "mimetype": "text/x-python",
   "name": "python",
   "nbconvert_exporter": "python",
   "pygments_lexer": "ipython3",
   "version": "3.6.6"
  }
 },
 "nbformat": 4,
 "nbformat_minor": 2
}
