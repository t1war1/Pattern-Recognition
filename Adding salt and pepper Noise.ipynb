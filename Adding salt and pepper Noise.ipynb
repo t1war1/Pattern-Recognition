{
 "cells": [
  {
   "cell_type": "code",
   "execution_count": null,
   "metadata": {
    "collapsed": true
   },
   "outputs": [],
   "source": [
    "#Adding salt and pepper noise\n",
    "import numpy as np\n",
    "import random\n",
    "import cv2\n",
    "from matplotlib import pyplot as plt\n",
    "\n",
    "def sp_noise(image,prob):\n",
    "    rows,cols=image.shape\n",
    "    output = np.zeros((rows,cols))\n",
    "    thres = 1 - prob \n",
    "    for i in range(image.shape[0]):\n",
    "        for j in range(image.shape[1]):\n",
    "            rdn = random.random()\n",
    "            if rdn < prob:\n",
    "                output[i][j] = 0\n",
    "            elif rdn > thres:\n",
    "                output[i][j] = 255\n",
    "            else:\n",
    "                output[i][j] = image[i][j]\n",
    "    return output\n",
    "\n",
    "image = cv2.imread('fly.jpg',0) # Only for grayscale image\n",
    "noise_img = sp_noise(image,0.05)\n",
    "cv2.imwrite('fly_noisy.jpg', noise_img)\n",
    "img2=cv2.imread('fly_noisy.jpg',0)\n",
    "cv2.imshow('image',img2)\n",
    "cv2.waitKey(0)\n",
    "cv2.destroyAllWindows()"
   ]
  },
  {
   "cell_type": "code",
   "execution_count": null,
   "metadata": {
    "collapsed": true
   },
   "outputs": [],
   "source": [
    "import numpy as np\n",
    "import random\n",
    "import cv2\n",
    "def gauss_noise(image,prob):\n",
    "    rows,cols=image.shape\n",
    "    output = np.zeros((rows,cols))\n",
    "    mean=0\n",
    "    var=0.1\n",
    "    sigma=var**0.5\n",
    "    gauss=np.random.normal(mean,sigma,(image.shape[0],image.shape[1]))\n",
    "    gauss=gauss.reshape(image.shape[0],image.shape[1])\n",
    "    thres=1-prob\n",
    "    for i in range(image.shape[0]):\n",
    "        for j in range(image.shape[1]):\n",
    "            rdn=gauss[i][j]\n",
    "            if rdn < prob:\n",
    "                output[i][j]=0\n",
    "            elif rdn>thres:\n",
    "                output[i][j]=255\n",
    "            else:\n",
    "                output[i][j]=image[i][j]\n",
    "    return output\n",
    "image = cv2.imread('fly.jpg',0)\n",
    "gaussimg=gauss_noise(image,0.05)\n",
    "cv2.imwrite('fly_gauss_noise.jpg',0)\n",
    "cv2.waitKey(0)\n",
    "cv2.destroyAllWindows()"
   ]
  }
 ],
 "metadata": {
  "kernelspec": {
   "display_name": "prlab",
   "language": "python",
   "name": "prlab"
  },
  "language_info": {
   "codemirror_mode": {
    "name": "ipython",
    "version": 3
   },
   "file_extension": ".py",
   "mimetype": "text/x-python",
   "name": "python",
   "nbconvert_exporter": "python",
   "pygments_lexer": "ipython3",
   "version": "3.6.6"
  }
 },
 "nbformat": 4,
 "nbformat_minor": 2
}
