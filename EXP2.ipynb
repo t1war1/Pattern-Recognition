{
 "cells": [
  {
   "cell_type": "code",
   "execution_count": 3,
   "metadata": {},
   "outputs": [],
   "source": [
    "#To find R,G,B planes of an image\n",
    "import cv2\n",
    "img=cv2.imread('fly.jpg',1)\n",
    "img[:,:,2]=0    #turn off red channel\n",
    "img[:,:,0]=0    #turn off blue channel\n",
    "cv2.imshow('image',img) #green channel\n",
    "cv2.imwrite('flygreen.jpg',img)\n",
    "cv2.waitKey(0)\n",
    "cv2.destroyAllWindows()"
   ]
  },
  {
   "cell_type": "markdown",
   "metadata": {},
   "source": [
    "![GREEN-PLANE](flygreen.jpg)"
   ]
  },
  {
   "cell_type": "code",
   "execution_count": 1,
   "metadata": {
    "collapsed": true
   },
   "outputs": [],
   "source": [
    "#Convert image to grayscale\n",
    "import cv2\n",
    "img=cv2.imread('fly.jpg',1)\n",
    "gray=cv2.cvtColor(img,cv2.COLOR_BGR2GRAY)\n",
    "cv2.imshow('color_image',img)\n",
    "\n",
    "#Display the gray image\n",
    "cv2.imshow('gray_image',gray)\n",
    "cv2.imwrite('flygrayscale.jpg',gray)\n",
    "cv2.waitKey(0)\n",
    "cv2.destroyAllWindows()"
   ]
  },
  {
   "cell_type": "markdown",
   "metadata": {},
   "source": [
    "![flygrayscale](flygrayscale.jpg)"
   ]
  },
  {
   "cell_type": "code",
   "execution_count": 2,
   "metadata": {},
   "outputs": [
    {
     "data": {
      "image/png": "[encoded data removed]",
      "text/plain": [
       "<Figure size 432x288 with 1 Axes>"
      ]
     },
     "metadata": {
      "needs_background": "light"
     },
     "output_type": "display_data"
    }
   ],
   "source": [
    "#Generate histogram of an image\n",
    "%matplotlib inline\n",
    "import cv2\n",
    "import matplotlib.pyplot as plt\n",
    "img=cv2.imread('fly.jpg',1)\n",
    "plt.hist(img.ravel(),64,[0,256]); plt.show()"
   ]
  },
  {
   "cell_type": "code",
   "execution_count": 1,
   "metadata": {},
   "outputs": [],
   "source": [
    "#histogram equalisation\n",
    "import cv2\n",
    "img=cv2.imread('fly.jpg',0)\n",
    "eq=cv2.equalizeHist(img)\n",
    "cv2.imshow('image',eq)\n",
    "cv2.imwrite('flyequalised.jpg',img)\n",
    "cv2.waitKey(0)\n",
    "cv2.destroyAllWindows()"
   ]
  },
  {
   "cell_type": "markdown",
   "metadata": {},
   "source": [
    "![abc](flyequalised.jpg)"
   ]
  }
 ],
 "metadata": {
  "kernelspec": {
   "display_name": "prlab",
   "language": "python",
   "name": "prlab"
  },
  "language_info": {
   "codemirror_mode": {
    "name": "ipython",
    "version": 3
   },
   "file_extension": ".py",
   "mimetype": "text/x-python",
   "name": "python",
   "nbconvert_exporter": "python",
   "pygments_lexer": "ipython3",
   "version": "3.6.6"
  }
 },
 "nbformat": 4,
 "nbformat_minor": 2
}
